{
 "cells": [
  {
   "cell_type": "markdown",
   "id": "cd0b298c-ba11-43c7-ba7c-a39d5efce861",
   "metadata": {},
   "source": [
    "## Visulization "
   ]
  },
  {
   "cell_type": "code",
   "execution_count": null,
   "id": "aa99794c-c019-46c9-bad8-c8613ed65df0",
   "metadata": {},
   "outputs": [],
   "source": [
    "# Import necessary library\n",
    "import pandas as pd\n",
    "import folium\n",
    "\n",
    "\n",
    "# Load and Clean Data\n",
    "\n",
    "file_path = \"path_to_file/earthquake_data.csv\"  # Adjust file path as needed\n",
    "data = pd.read_csv(file_path)\n",
    "\n",
    "data.dropna(subset=['longitude', 'latitude', 'magnitude', 'depth'], inplace=True)\n",
    "\n",
    "\n",
    "\n",
    "# Filter rows where 'eventtype' is equal to 'earthquake'\n",
    "data = data[data['eventtype'] == 'earthquake']\n",
    "\n",
    "\n",
    "\n",
    "# Ensure the 'origintime' column is in datetime format for temporal analysis\n",
    "data['origintime'] = pd.to_datetime(data['origintime'], errors='coerce')"
   ]
  },
  {
   "cell_type": "markdown",
   "id": "628d789e-e3ec-4f3f-b00e-3cb8278e564c",
   "metadata": {},
   "source": [
    "### 1- Earthquake Scatter Map"
   ]
  },
  {
   "cell_type": "code",
   "execution_count": null,
   "id": "8c7ab3dc-19bd-467d-98c7-156fded4fd7b",
   "metadata": {},
   "outputs": [],
   "source": [
    "# Define a function to create a clean, minimalistic earthquake scatter map\n",
    "def create_clean_scatter_map(data, save_path=\"earthquake_map.html\"):\n",
    "    \"\"\"\n",
    "    Create an interactive scatter map to visualize earthquake data.\n",
    "\n",
    "    Parameters:\n",
    "    - data (DataFrame): Data containing 'latitude', 'longitude', 'magnitude', and 'depth'.\n",
    "    - save_path (str): Path to save the generated HTML file (default: 'earthquake_map.html').\n",
    "\n",
    "    Returns:\n",
    "    - None: Saves the map as an HTML file.\n",
    "    \"\"\"\n",
    "    # Step 1: Initialize the map\n",
    "    # Center the map on New Zealand with a starting zoom level of 6.\n",
    "    m = folium.Map(\n",
    "        location=[-40.9006, 174.886],  # Coordinates of New Zealand\n",
    "        zoom_start=6  # Initial zoom level\n",
    "    )\n",
    "\n",
    "    # Step 2: Add a clean and minimalistic tile layer\n",
    "    # Use CartoDB's \"positron\" tile layer for a visually appealing map background.\n",
    "    folium.TileLayer('CartoDB positron').add_to(m)\n",
    "\n",
    "    # Step 3: Add earthquake data as circle markers on the map\n",
    "    # Loop through each row in the dataset and plot earthquake locations.\n",
    "    for _, row in data.iterrows():\n",
    "        folium.CircleMarker(\n",
    "            location=[row['latitude'], row['longitude']],  # Earthquake coordinates\n",
    "            radius=row['magnitude'] * 2,  # Circle size based on magnitude\n",
    "            color=\"red\",  # Circle border color\n",
    "            fill=True,  # Enable fill for the circle\n",
    "            fill_opacity=0.7,  # Set fill opacity for visibility\n",
    "            popup=f\"Magnitude: {row['magnitude']}, Depth: {row['depth']} km\"  # Information popup\n",
    "        ).add_to(m)\n",
    "\n",
    "    # Step 4: Apply custom CSS for aesthetics\n",
    "    # Add a custom style to remove additional grey space and match the ocean color.\n",
    "    m.get_root().html.add_child(folium.Element(\"\"\"\n",
    "    <style>\n",
    "        .leaflet-container {\n",
    "            background: #e5f3ff;  /* Ocean-like background color */\n",
    "            border: none !important;  /* Remove border for a clean look */\n",
    "        }\n",
    "    </style>\n",
    "    \"\"\"))\n",
    "\n",
    "    # Step 5: Save the map as an HTML file\n",
    "    # Save the generated map to the specified file path.\n",
    "    m.save(save_path)\n",
    "    print(f\"Clean map saved as {save_path}\")\n",
    "\n",
    "# Example usage:\n",
    "# Call the function to generate the map and save it to an HTML file.\n",
    "create_clean_scatter_map(data)\n"
   ]
  },
  {
   "cell_type": "markdown",
   "id": "0c7db729-e47d-4de9-8b54-3b021fcd4c28",
   "metadata": {},
   "source": [
    "## 2- Earthquake heat map"
   ]
  },
  {
   "cell_type": "code",
   "execution_count": null,
   "id": "a62be9b1-2b56-4db0-b770-c66d8d3ee4c6",
   "metadata": {},
   "outputs": [],
   "source": [
    "from folium.plugins import HeatMap\n",
    "\n",
    "# Create heatmap for earthquake density\n",
    "def create_earthquake_heatmap(data, save_path=\"heatmap.html\"):\n",
    "    \"\"\"\n",
    "    Generate a heatmap to visualize earthquake density.\n",
    "\n",
    "    Parameters:\n",
    "    - data (DataFrame): Data containing 'latitude' and 'longitude' columns.\n",
    "    - save_path (str): Path to save the generated HTML file (default: 'heatmap.html').\n",
    "    \"\"\"\n",
    "    # Initialize the map centered on New Zealand with an appropriate zoom level\n",
    "    m = folium.Map(location=[-40.9006, 174.886], zoom_start=8)\n",
    "\n",
    "    # Prepare the data for the heatmap\n",
    "    # Extract latitude and longitude for each earthquake in the dataset\n",
    "    heat_data = [[row['latitude'], row['longitude']] for _, row in data.iterrows()]\n",
    "\n",
    "    # Add the heatmap layer to the map\n",
    "    # The heatmap will highlight regions with higher earthquake densities\n",
    "    HeatMap(heat_data).add_to(m)\n",
    "\n",
    "    # Add a clean, minimalistic tile layer for better visualization\n",
    "    folium.TileLayer('CartoDB positron').add_to(m)\n",
    "\n",
    "    # Save the generated heatmap as an interactive HTML file\n",
    "    m.save(save_path)\n",
    "    print(f\"Heatmap saved as {save_path}\")  # Confirmation message\n",
    "\n",
    "# Call the function with the earthquake data\n",
    "create_earthquake_heatmap(data)\n"
   ]
  },
  {
   "cell_type": "markdown",
   "id": "de08d6e7-6b7e-4cb6-acc6-a83bb3c2ca66",
   "metadata": {},
   "source": [
    "## 3- Spatial Distribution: Show clusters of earthquakes"
   ]
  },
  {
   "cell_type": "code",
   "execution_count": null,
   "id": "f6205d86-4798-4da3-806a-e01865921d8a",
   "metadata": {},
   "outputs": [],
   "source": [
    "# Spatial Distribution: Show clusters of earthquakes\n",
    "def plot_spatial_distribution(data):\n",
    "    plt.figure(figsize=(10, 6))\n",
    "    plt.scatter(data['longitude'], data['latitude'], c=data['magnitude'], cmap='Reds', s=10)\n",
    "    plt.colorbar(label='Magnitude')\n",
    "    plt.title('Spatial Distribution of Earthquakes')\n",
    "    plt.xlabel('Longitude')\n",
    "    plt.ylabel('Latitude')\n",
    "    plt.show()\n",
    "\n",
    "plot_spatial_distribution(data)"
   ]
  },
  {
   "cell_type": "markdown",
   "id": "3f80d17f-8b54-4d61-acf1-a30a54d29a7c",
   "metadata": {},
   "source": [
    "## 4-  Magnitude Patterns: Magnitude vs Location"
   ]
  },
  {
   "cell_type": "code",
   "execution_count": null,
   "id": "b20c0b14-edc7-4e90-a57d-fbcdfe7ae5fe",
   "metadata": {},
   "outputs": [],
   "source": [
    "# Magnitude Patterns: Magnitude vs Location\n",
    "def plot_magnitude_vs_location(data):\n",
    "    plt.figure(figsize=(10, 6))\n",
    "    sns.scatterplot(data=data, x='longitude', y='latitude', hue='magnitude', palette='coolwarm', size='magnitude', sizes=(20, 200))\n",
    "    plt.title('Magnitude vs Location of Earthquakes')\n",
    "    plt.xlabel('Longitude')\n",
    "    plt.ylabel('Latitude')\n",
    "    plt.legend(title='Magnitude', loc='upper right')\n",
    "    plt.show()\n",
    "\n",
    "plot_magnitude_vs_location(data)"
   ]
  },
  {
   "cell_type": "markdown",
   "id": "3b61a549-a602-4b7a-bf3a-e3751bb0ae9d",
   "metadata": {},
   "source": [
    "## 5- Depth Analysis: Depth vs Magnitude (Scatterplot)"
   ]
  },
  {
   "cell_type": "code",
   "execution_count": null,
   "id": "33850a5e-0591-4f2a-8959-7c85f05c870c",
   "metadata": {},
   "outputs": [],
   "source": [
    "# 3. Depth Analysis: Depth vs Magnitude (Scatterplot)\n",
    "def plot_depth_vs_magnitude(data):\n",
    "    plt.figure(figsize=(10, 6))\n",
    "    sns.scatterplot(data=data, x='depth', y='magnitude', hue='depth', palette='viridis')\n",
    "    plt.title('Depth vs Magnitude of Earthquakes')\n",
    "    plt.xlabel('Depth (km)')\n",
    "    plt.ylabel('Magnitude')\n",
    "    plt.show()\n",
    "\n",
    "\n",
    "plot_depth_vs_magnitude(data)\n"
   ]
  },
  {
   "cell_type": "markdown",
   "id": "12cafad2-f1e4-41ce-aae8-bf1b16037c43",
   "metadata": {},
   "source": [
    "## 6- Temporal Patterns: Earthquake frequency by month"
   ]
  },
  {
   "cell_type": "code",
   "execution_count": null,
   "id": "ea332c56-1d8d-40a2-8643-db1a8c8c31e6",
   "metadata": {},
   "outputs": [],
   "source": [
    "# Temporal Patterns: Earthquake frequency by month\n",
    "def plot_temporal_patterns(data):\n",
    "    data['month'] = data['origintime'].dt.month\n",
    "    monthly_counts = data['month'].value_counts().sort_index()\n",
    "    \n",
    "    plt.figure(figsize=(10, 6))\n",
    "    sns.lineplot(x=monthly_counts.index, y=monthly_counts.values, marker='o')\n",
    "    plt.title('Earthquake Frequency by Month')\n",
    "    plt.xlabel('Month')\n",
    "    plt.ylabel('Number of Earthquakes')\n",
    "    plt.xticks(range(1, 13))\n",
    "    plt.show()\n",
    "plot_temporal_patterns(data)"
   ]
  },
  {
   "cell_type": "markdown",
   "id": "ac81f22f-2694-40bd-b3ab-54a8bb5f1b4b",
   "metadata": {},
   "source": [
    "## 7- Intensity Visualization: Magnitude Radius"
   ]
  },
  {
   "cell_type": "code",
   "execution_count": null,
   "id": "f34650f7-d2ce-48e6-86f4-62c09d2768d2",
   "metadata": {},
   "outputs": [],
   "source": [
    "\n",
    "#Intensity Visualization: Magnitude Radius\n",
    "def plot_magnitude_radius(data):\n",
    "    plt.figure(figsize=(10, 6))\n",
    "    sns.histplot(data['magnitude'], kde=True, color='red')\n",
    "    plt.title('Distribution of Earthquake Magnitudes')\n",
    "    plt.xlabel('Magnitude')\n",
    "    plt.ylabel('Frequency')\n",
    "    plt.show()\n",
    "\n",
    "plot_magnitude_radius(data)"
   ]
  },
  {
   "cell_type": "markdown",
   "id": "8e08dcb9-20dd-4937-a468-d886bc615e7a",
   "metadata": {},
   "source": [
    "## 8- Comparison by Location: Earthquakes in North vs South Island"
   ]
  },
  {
   "cell_type": "code",
   "execution_count": null,
   "id": "76f676de-d80a-4ebb-b837-5215f74cef3d",
   "metadata": {},
   "outputs": [],
   "source": [
    "\n",
    "#Comparison by Location: Earthquakes in North vs South Island\n",
    "def plot_north_vs_south(data):\n",
    "    data['region'] = data['latitude'].apply(lambda x: 'North Island' if x > -41 else 'South Island')\n",
    "    region_counts = data['region'].value_counts()\n",
    "    \n",
    "    plt.figure(figsize=(10, 6))\n",
    "    sns.barplot(x=region_counts.index, y=region_counts.values, palette='Set2')\n",
    "    plt.title('Earthquakes in North vs South Island')\n",
    "    plt.xlabel('Region')\n",
    "    plt.ylabel('Number of Earthquakes')\n",
    "    plt.show()\n",
    "\n",
    "plot_north_vs_south(data)"
   ]
  },
  {
   "cell_type": "markdown",
   "id": "93d284af-88b9-4a1b-9ffc-8037326312bd",
   "metadata": {},
   "source": []
  },
  {
   "cell_type": "code",
   "execution_count": null,
   "id": "3b7880f6-c2f2-4651-b391-d45bae980440",
   "metadata": {},
   "outputs": [],
   "source": []
  },
  {
   "cell_type": "markdown",
   "id": "ab7f74cb-3c06-4a59-85d7-d415cf652756",
   "metadata": {},
   "source": [
    "## 9- Depth vs Magnitude Correlation: Plot depth against magnitude"
   ]
  },
  {
   "cell_type": "code",
   "execution_count": null,
   "id": "32eca967-19fe-469b-9a8f-ace1d8795ca2",
   "metadata": {},
   "outputs": [],
   "source": [
    "\n",
    "# Depth vs Magnitude Correlation: Plot depth against magnitude\n",
    "def plot_depth_vs_magnitude_corr(data):\n",
    "    plt.figure(figsize=(10, 6))\n",
    "    sns.scatterplot(data=data, x='depth', y='magnitude', hue='magnitude', palette='coolwarm')\n",
    "    plt.title('Depth vs Magnitude Correlation')\n",
    "    plt.xlabel('Depth (km)')\n",
    "    plt.ylabel('Magnitude')\n",
    "    plt.show()\n",
    "\n",
    "plot_depth_vs_magnitude_corr(data)"
   ]
  }
 ],
 "metadata": {
  "kernelspec": {
   "display_name": "Python 3 (ipykernel)",
   "language": "python",
   "name": "python3"
  },
  "language_info": {
   "codemirror_mode": {
    "name": "ipython",
    "version": 3
   },
   "file_extension": ".py",
   "mimetype": "text/x-python",
   "name": "python",
   "nbconvert_exporter": "python",
   "pygments_lexer": "ipython3",
   "version": "3.11.2"
  }
 },
 "nbformat": 4,
 "nbformat_minor": 5
}
